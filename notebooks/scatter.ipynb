{
 "cells": [
  {
   "cell_type": "markdown",
   "metadata": {},
   "source": [
    "# NVCL_KIT Scatter Plot Demonstration"
   ]
  },
  {
   "cell_type": "markdown",
   "metadata": {},
   "source": [
    "*Acknowledgment: Borehole dataset courtesy of South Australia Department for Energy\n",
    "and Mining. (https://energymining.sa.gov.au/minerals)*"
   ]
  },
  {
   "cell_type": "code",
   "execution_count": 1,
   "metadata": {},
   "outputs": [],
   "source": [
    "from nvcl_kit.reader import NVCLReader "
   ]
  },
  {
   "cell_type": "code",
   "execution_count": 2,
   "metadata": {},
   "outputs": [],
   "source": [
    "from types import SimpleNamespace"
   ]
  },
  {
   "cell_type": "code",
   "execution_count": 3,
   "metadata": {},
   "outputs": [],
   "source": [
    "param = SimpleNamespace()"
   ]
  },
  {
   "cell_type": "markdown",
   "metadata": {},
   "source": [
    "Set the URL for the WFS service"
   ]
  },
  {
   "cell_type": "code",
   "execution_count": 4,
   "metadata": {},
   "outputs": [],
   "source": [
    "param.WFS_URL = \"https://sarigdata.pir.sa.gov.au/geoserver/ows\""
   ]
  },
  {
   "cell_type": "markdown",
   "metadata": {},
   "source": [
    "Set the URL for the NVCL service"
   ]
  },
  {
   "cell_type": "code",
   "execution_count": 5,
   "metadata": {},
   "outputs": [],
   "source": [
    "param.NVCL_URL = \"https://sarigdata.pir.sa.gov.au/nvcl/NVCLDataServices\""
   ]
  },
  {
   "cell_type": "code",
   "execution_count": 6,
   "metadata": {},
   "outputs": [],
   "source": [
    "param.MAX_BOREHOLES = 20"
   ]
  },
  {
   "cell_type": "markdown",
   "metadata": {},
   "source": [
    "Initialise reader object and check for errors"
   ]
  },
  {
   "cell_type": "code",
   "execution_count": 7,
   "metadata": {},
   "outputs": [],
   "source": [
    "reader = NVCLReader(param)\n",
    "if not reader.wfs:\n",
    "        print(\"ERROR!\")\n"
   ]
  },
  {
   "cell_type": "markdown",
   "metadata": {},
   "source": [
    "Get borehole information from WFS service"
   ]
  },
  {
   "cell_type": "code",
   "execution_count": 8,
   "metadata": {},
   "outputs": [],
   "source": [
    "bh_list = reader.get_boreholes_list()"
   ]
  },
  {
   "cell_type": "code",
   "execution_count": 9,
   "metadata": {},
   "outputs": [
    {
     "name": "stdout",
     "output_type": "stream",
     "text": [
      "{'nvcl_id': '10133', 'x': 135.3493952, 'y': -27.43947232, 'href': 'https://sarigdata.pir.sa.gov.au/nvcl/resource/feature/PIRSA/borehole/10133', 'name': 'OODNADATTA 1', 'description': 'petroleum borehole, stratigraphic borehole', 'purpose': 'petroleum exploration, lithostratigraphy determination', 'status': 'single completion', 'drillingMethod': 'diamond core, rotary hammer drilling', 'operator': 'SANTOS LIMITED', 'driller': '', 'drillStartDate': '', 'drillEndDate': '1957-08-19', 'startPoint': 'natural ground surface', 'inclinationType': 'vertical', 'boreholeMaterialCustodian': 'South Australia Drill Core Reference Library', 'boreholeLength_m': '405.99', 'elevation_m': '131.064', 'elevation_srs': 'http://www.opengis.net/def/crs/EPSG/0/5711', 'positionalAccuracy': 'unknown', 'source': 'https://minerals.sarig.sa.gov.au/Details.aspx?DRILLHOLE_NO=10133', 'parentBorehole_uri': '', 'metadata_uri': 'https://catalog.sarig.sa.gov.au/geonetwork/srv/eng/catalog.search#/metadata/03b3f51f-4118-4007-9fe8-73f24ac1eab3', 'genericSymbolizer': '', 'z': 131.064}\n"
     ]
    }
   ],
   "source": [
    "print(bh_list[0])"
   ]
  },
  {
   "cell_type": "markdown",
   "metadata": {},
   "source": [
    "Get list of NVCL ids from NVCL service"
   ]
  },
  {
   "cell_type": "code",
   "execution_count": 10,
   "metadata": {},
   "outputs": [],
   "source": [
    "nvcl_id_list = reader.get_nvcl_id_list()"
   ]
  },
  {
   "cell_type": "markdown",
   "metadata": {},
   "source": [
    "Get image log data for the first NVCL id in the list"
   ]
  },
  {
   "cell_type": "code",
   "execution_count": 11,
   "metadata": {
    "scrolled": true
   },
   "outputs": [],
   "source": [
    "imagelog_data_list = reader.get_imagelog_data(nvcl_id_list[0])"
   ]
  },
  {
   "cell_type": "markdown",
   "metadata": {},
   "source": [
    "Assemble data for the scatter plot"
   ]
  },
  {
   "cell_type": "code",
   "execution_count": 12,
   "metadata": {
    "scrolled": false
   },
   "outputs": [
    {
     "name": "stdout",
     "output_type": "stream",
     "text": [
      "At  10.0  class, count, mineral, colour is Grp1 uTSAS 1081 SMECTITE (0.7686274509803922, 0.6627450980392157, 0.592156862745098, 1.0)\n",
      "At  10.0  class, count, mineral, colour is Grp1 uTSAS 109 WHITE-MICA (1.0, 1.0, 0.0, 1.0)\n",
      "At  10.0  class, count, mineral, colour is Grp1 uTSAS 46 SULPHATE (0.40784313725490196, 0.3764705882352941, 0.10980392156862745, 1.0)\n",
      "At  10.0  class, count, mineral, colour is Grp1 uTSAS 16 OTHER-ALOH (1.0, 0.984313725490196, 0.7411764705882353, 1.0)\n",
      "At  10.0  class, count, mineral, colour is Grp1 uTSAS 3 CARBONATE (0.0, 0.0, 1.0, 1.0)\n"
     ]
    }
   ],
   "source": [
    "import matplotlib.pyplot as plt\n",
    "import matplotlib.patches as mpatches\n",
    "\n",
    "# Loop over first 10 entries in list\n",
    "for ild in imagelog_data_list[:10]:\n",
    "    \n",
    "    # Log name has 2 parts:\n",
    "    # 1. Min1,2,3 = 1st, 2nd, 3rd most common mineral\n",
    "    #    OR Grp1,2,3 = 1st, 2nd, 3rd most common group of minerals\n",
    "    # 2. uTSAV = visible light, uTSAS = shortwave IR, uTSAT = thermal IR\n",
    "    #\n",
    "    # These combine to give us a class name such as 'Grp1 uTSAS'\n",
    "    #\n",
    "    # Here we extract data for log type '1' and log name 'Grp1 uTSAS'\n",
    "    if ild.log_type == '1' and ild.log_name == 'Grp1 uTSAS':\n",
    "        \n",
    "        # Read top 5 mineral entries, at a 20 depth metre spacing for 'Grp1 uTSAS'\n",
    "        bh_data = reader.get_borehole_data(ild.log_id, 20, 'Grp1 uTSAS', top_n=5)\n",
    "        \n",
    "        # Initialise empty lists & sets to hold our x-values, y-values, colour and legend entries\n",
    "        x, y, colours, legend_set = ([], [], [], set())\n",
    "        \n",
    "        # Loop over data at each depth\n",
    "        for depth in bh_data:\n",
    "            \n",
    "            # Loop over all the minerals\n",
    "            for elem in bh_data[depth]:\n",
    "                # Only print data for the first 20m\n",
    "                if depth < 20:\n",
    "                    print(\"At \", depth, \" class, count, mineral, colour is\", elem.className,\n",
    "                          elem.classCount, elem.classText, elem.colour)\n",
    "                \n",
    "                # Gather up xs, ys, colours and legend entries\n",
    "                x.append(depth)\n",
    "                y.append(elem.classCount)\n",
    "                colours.append(elem.colour)\n",
    "                legend_set.add((elem.colour, elem.classText))\n",
    "        \n",
    "        # Exit once we have collected one dataset \n",
    "        break\n",
    "\n"
   ]
  },
  {
   "cell_type": "markdown",
   "metadata": {},
   "source": [
    "Display the scatter graph"
   ]
  },
  {
   "cell_type": "code",
   "execution_count": 13,
   "metadata": {
    "scrolled": false
   },
   "outputs": [
    {
     "data": {
      "image/png": "[encoded data removed]",
      "text/plain": [
       "<Figure size 432x288 with 1 Axes>"
      ]
     },
     "metadata": {
      "needs_background": "light"
     },
     "output_type": "display_data"
    }
   ],
   "source": [
    "# Create entries for the legend\n",
    "legend_list = [mpatches.Patch(color=colour, label=mineral_name) for colour, mineral_name in list(legend_set)]\n",
    "\n",
    "# Create graph\n",
    "plt.title(bh_list[0]['name']+' Grp1 uTSAS')\n",
    "plt.legend(handles=legend_list)\n",
    "plt.ylabel('Mineral count')\n",
    "plt.xlabel('Depth (m)')\n",
    "plt.scatter(x, y, s=35, c=colours, alpha=0.5)\n",
    "plt.show()"
   ]
  },
  {
   "cell_type": "code",
   "execution_count": null,
   "metadata": {},
   "outputs": [],
   "source": []
  }
 ],
 "metadata": {
  "kernelspec": {
   "display_name": "Python 3",
   "language": "python",
   "name": "python3"
  },
  "language_info": {
   "codemirror_mode": {
    "name": "ipython",
    "version": 3
   },
   "file_extension": ".py",
   "mimetype": "text/x-python",
   "name": "python",
   "nbconvert_exporter": "python",
   "pygments_lexer": "ipython3",
   "version": "3.8.2"
  }
 },
 "nbformat": 4,
 "nbformat_minor": 4
}
