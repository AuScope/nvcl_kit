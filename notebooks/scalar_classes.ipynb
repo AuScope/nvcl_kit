{
 "cells": [
  {
   "cell_type": "markdown",
   "id": "29f5102c-71e8-4adb-99c5-5b18c22c5112",
   "metadata": {},
   "source": [
    "## This demonstrates displaying NVCL scalar datasets by scalar class\n",
    "**Displays depth, abundance, and mineral name**"
   ]
  },
  {
   "cell_type": "code",
   "execution_count": 1,
   "id": "89f10f4f-2931-4288-8cb8-d505a0d92c1d",
   "metadata": {
    "tags": []
   },
   "outputs": [],
   "source": [
    "import sys\n",
    "\n",
    "from nvcl_kit.reader import NVCLReader\n",
    "from nvcl_kit.generators import gen_scalar_by_depth\n",
    "from nvcl_kit.param_builder import param_builder\n",
    "from nvcl_kit.constants import Scalar"
   ]
  },
  {
   "cell_type": "code",
   "execution_count": 2,
   "id": "19d6b989-76ae-453b-baad-b8a1ff5e56de",
   "metadata": {
    "tags": []
   },
   "outputs": [],
   "source": [
    "# Build parameters for connecting to NSW's NVCL data services\n",
    "param = param_builder('nsw')\n",
    "if not param:\n",
    "    print(f\"Cannot build parameters: 'nsw'\")\n",
    "    sys.exit(1)"
   ]
  },
  {
   "cell_type": "code",
   "execution_count": 3,
   "id": "8c7fbd1f-81f2-482d-92f2-c7bde1867d5c",
   "metadata": {
    "tags": []
   },
   "outputs": [],
   "source": [
    "# Initialise reader\n",
    "reader = NVCLReader(param)\n",
    "if not reader.wfs:\n",
    "    print(f\"ERROR! Cannot contact WFS service for 'nsw'\")\n",
    "    sys.exit(1)"
   ]
  },
  {
   "cell_type": "markdown",
   "id": "fac6fbc8-ec69-4aa5-a6da-d89c488cd646",
   "metadata": {},
   "source": [
    "**This prints out some of the depths, abundances and minerals of a 'Min2_uTSAS' scalar class from boreholes in NSW, by passing in a 'Scalar' constant via 'scalar_class' parameter**"
   ]
  },
  {
   "cell_type": "code",
   "execution_count": 4,
   "id": "186d248d-e51f-44ef-bc42-774e33e946ef",
   "metadata": {
    "tags": []
   },
   "outputs": [
    {
     "name": "stdout",
     "output_type": "stream",
     "text": [
      "NVCL ID: COAL_027746   @ 30.0 metres: class=Min2 uTSAS, abundance=176, mineral=Montmorillonite\n",
      "NVCL ID: COAL_027746   @ 30.0 metres: class=Min2 uTSAS, abundance=91, mineral=ParagoniticIllite\n",
      "NVCL ID: COAL_027746   @ 30.0 metres: class=Min2 uTSAS, abundance=19, mineral=Kaolinite-WX\n",
      "NVCL ID: COAL_027746   @ 30.0 metres: class=Min2 uTSAS, abundance=7, mineral=Dolomite\n",
      "NVCL ID: COAL_027746   @ 30.0 metres: class=Min2 uTSAS, abundance=5, mineral=Muscovite\n"
     ]
    }
   ],
   "source": [
    "for nvcl_id, log_obj, sca_list in gen_scalar_by_depth(reader, scalar_class=Scalar.Min2_uTSAS):\n",
    "    for depth in sca_list:\n",
    "        for meas in sca_list[depth]:\n",
    "            print(f\"NVCL ID: {nvcl_id}   @ {depth} metres: class={meas.className}, abundance={meas.classCount}, mineral={meas.classText}\")\n",
    "        break\n",
    "    break"
   ]
  },
  {
   "cell_type": "markdown",
   "id": "efc01f19-3a53-4c16-ba1e-5287d269aa50",
   "metadata": {},
   "source": [
    "**A string can also be passed in as a 'scalar_class' parameter**"
   ]
  },
  {
   "cell_type": "code",
   "execution_count": 5,
   "id": "b289f1b8-3ca0-4e1f-8641-3594b8900699",
   "metadata": {
    "tags": []
   },
   "outputs": [
    {
     "name": "stdout",
     "output_type": "stream",
     "text": [
      "NVCL ID: COAL_070748   @ 910.0 metres: class=Min3 sjCLST, abundance=169, mineral=Muscovite\n",
      "NVCL ID: COAL_070748   @ 910.0 metres: class=Min3 sjCLST, abundance=164, mineral=Albite\n",
      "NVCL ID: COAL_070748   @ 910.0 metres: class=Min3 sjCLST, abundance=117, mineral=Montmorillonite\n",
      "NVCL ID: COAL_070748   @ 910.0 metres: class=Min3 sjCLST, abundance=35, mineral=Oligoclase\n",
      "NVCL ID: COAL_070748   @ 910.0 metres: class=Min3 sjCLST, abundance=34, mineral=Calcite\n"
     ]
    }
   ],
   "source": [
    "for nvcl_id, log_obj, sca_list in gen_scalar_by_depth(reader, scalar_class='Min3 sjCLST'):\n",
    "    for depth in sca_list:\n",
    "        for meas in sca_list[depth]:\n",
    "            print(f\"NVCL ID: {nvcl_id}   @ {depth} metres: class={meas.className}, abundance={meas.classCount}, mineral={meas.classText}\")\n",
    "        break\n",
    "    break"
   ]
  },
  {
   "cell_type": "code",
   "execution_count": null,
   "id": "a1007158-2ee6-4696-9914-af84bda20cad",
   "metadata": {},
   "outputs": [],
   "source": []
  }
 ],
 "metadata": {
  "kernelspec": {
   "display_name": "NVCL KIT 8",
   "language": "python",
   "name": "myenv-nvcl-kit8"
  },
  "language_info": {
   "codemirror_mode": {
    "name": "ipython",
    "version": 3
   },
   "file_extension": ".py",
   "mimetype": "text/x-python",
   "name": "python",
   "nbconvert_exporter": "python",
   "pygments_lexer": "ipython3",
   "version": "3.10.6"
  }
 },
 "nbformat": 4,
 "nbformat_minor": 5
}
