{
 "cells": [
  {
   "cell_type": "markdown",
   "metadata": {
    "tags": []
   },
   "source": [
    "# NVCL_KIT Close Up Core Image Demonstration"
   ]
  },
  {
   "cell_type": "markdown",
   "metadata": {},
   "source": [
    "*Acknowledgement: Borehole dataset courtesy of Mineral Resources Tasmania. (https://www.mrt.tas.gov.au/home)*"
   ]
  },
  {
   "cell_type": "code",
   "execution_count": 1,
   "metadata": {},
   "outputs": [],
   "source": [
    "from nvcl_kit.reader import NVCLReader\n",
    "from nvcl_kit.param_builder import param_builder\n",
    "from nvcl_kit.generators import gen_core_images"
   ]
  },
  {
   "cell_type": "markdown",
   "metadata": {
    "tags": []
   },
   "source": [
    "**Build parameters**"
   ]
  },
  {
   "cell_type": "code",
   "execution_count": 2,
   "metadata": {},
   "outputs": [],
   "source": [
    "param = param_builder('tas', max_boreholes=25)\n",
    "if not param:\n",
    "    print(\"Cannot build parameters for 'tas'\")"
   ]
  },
  {
   "cell_type": "markdown",
   "metadata": {},
   "source": [
    "**Initialise reader object**"
   ]
  },
  {
   "cell_type": "code",
   "execution_count": 3,
   "metadata": {},
   "outputs": [],
   "source": [
    "reader = NVCLReader(param)\n",
    "if not reader.wfs:\n",
    "    print(\"ERROR!\")"
   ]
  },
  {
   "cell_type": "markdown",
   "metadata": {
    "tags": []
   },
   "source": [
    "**Get nvcl id from a borehole named 'MAC23'**"
   ]
  },
  {
   "cell_type": "code",
   "execution_count": 4,
   "metadata": {},
   "outputs": [
    {
     "name": "stdout",
     "output_type": "stream",
     "text": [
      "['10026']\n"
     ]
    }
   ],
   "source": [
    "my_nvclids = reader.filter_feat_list(nvcl_ids_only=True, name='MAC23')\n",
    "print(my_nvclids)"
   ]
  },
  {
   "cell_type": "markdown",
   "metadata": {},
   "source": [
    "**Get closeup core images from 'MAC23' borehole**"
   ]
  },
  {
   "cell_type": "code",
   "execution_count": 5,
   "metadata": {
    "scrolled": true
   },
   "outputs": [
    {
     "name": "stdout",
     "output_type": "stream",
     "text": [
      "\n",
      "\n",
      "\n",
      "\n",
      "\n",
      "\n",
      "<!DOCTYPE html>\n",
      "<html>\n",
      "  <head>\n",
      "    <title>NVCL Data Services :: Mosaic Web Service</title>\n",
      "    <link rel=\"stylesheet\" href=\"style/style.css\" type=\"text/css\"/>\n",
      "    <script\tsrc=\"https://ajax.googleapis.com/ajax/libs/jquery/1.11.3/jquery.min.js\"\ttype=\"text/javascript\"></script>\n",
      "<style>\n",
      ".pixelated {\n",
      "  image-rendering:optimizeSpeed;             /* Legal fallback */\n",
      "  image-rendering:-moz-crisp-edges;          /* Firefox        */\n",
      "  image-rendering:-o-crisp-edges;            /* Opera          */\n",
      "  image-rendering:-webkit-optimize-contrast; /* Safari         */\n",
      "  image-rendering:optimize-contrast;         /* CSS3 Proposed  */\n",
      "  image-rendering:crisp-edges;               /* CSS4 Proposed  */\n",
      "  image-rendering:pixelated;                 /* CSS4 Proposed  */\n",
      "  -ms-interpolation-mode:nearest-neighbor;   /* IE8+           */\n",
      "}\n",
      "\n",
      ".NVCLMosaicCell {\n",
      "\tdisplay:block;\n",
      "\tfloat:left;\n",
      "}\n",
      "\n",
      ".NVCLMosaicCellContent {\n",
      "\tdisplay:table;\n",
      "\ttable-layout:fixed;\n",
      "\twidth:100%;\n",
      "\theight: 100%;\n",
      "}\n",
      "\n",
      ".NVCLMosaicCellDepths {\n",
      "\tvertical-align:middle;\n",
      "\tdisplay: table-cell;\n",
      "\twidth:33%;\n",
      "}\n",
      "\n",
      ".NVCLMosaicCellPara {\n",
      "\ttext-align: center;\n",
      "\tmargin: 0;\n",
      "}\n",
      "\n",
      ".NVCLMosaicCellImg {\n",
      "\tdisplay:table-cell;\n",
      "\theight: 100%;\n",
      "}\n",
      "\n",
      ".NVCLMosaicImage {\n",
      "\tdisplay: block;\n",
      "\twidth: 100%;\n",
      "\n",
      "}\n",
      "</style>\n",
      "\n",
      "  </head>\n",
      "\n",
      "  <body>\n",
      "    <div class=\"NVCLMosaicContainer\" ><div class=\"NVCLMosaicCell\" style=\"max-width: 100%\"><div class=\"NVCLMosaicCellImg\" ><img title=\"Core Image at depth 0.005m\" class=\"NVCLMosaicImage\" src=\"https://www.mrt.tas.gov.au/NVCLDataServices/Display_Tray_Thumb.html?logid=013bb457-533f-46bb-adfa-932c4d2bb27&sampleno=0\" alt=\"Core Image\" ></div></div><div style=\"clear:both;\"></div><div class=\"NVCLMosaicCell\" style=\"max-width: 100%\"><div class=\"NVCLMosaicCellImg\" ><img title=\"Core Image at depth 0.005m\" class=\"NVCLMosaicImage\" src=\"https://www.mrt.tas.gov.au/NVCLDataServices/Display_Tray_Thumb.html?logid=013bb457-533f-46bb-adfa-932c4d2bb27&sampleno=1\" alt=\"Core Image\" ></div></div><div style=\"clear:both;\"></div><div class=\"NVCLMosaicCell\" style=\"max-width: 100%\"><div class=\"NVCLMosaicCellImg\" ><img title=\"Core Image at depth 0.005m\" class=\"NVCLMosaicImage\" src=\"https://www.mrt.tas.gov.au/NVCLDataServices/Display_Tray_Thumb.html?logid=013bb457-533f-46bb-adfa-932c4d2bb27&sampleno=2\" alt=\"Core Image\" ></div></div><div style=\"clear:both;\"></div><div class=\"NVCLMosaicCell\" style=\"max-width: 100%\"><div class=\"NVCLMosaicCellImg\" ><img title=\"Core Image at depth 0.005m\" class=\"NVCLMosaicImage\" src=\"https://www.mrt.tas.gov.au/NVCLDataServices/Display_Tray_Thumb.html?logid=013bb457-533f-46bb-adfa-932c4d2bb27&sampleno=3\" alt=\"Core Image\" ></div></div><div style=\"clear:both;\"></div><div class=\"NVCLMosaicCell\" style=\"max-width: 100%\"><div class=\"NVCLMosaicCellImg\" ><img title=\"Core Image at depth 0.005m\" class=\"NVCLMosaicImage\" src=\"https://www.mrt.tas.gov.au/NVCLDataServices/Display_Tray_Thumb.html?logid=013bb457-533f-46bb-adfa-932c4d2bb27&sampleno=4\" alt=\"Core Image\" ></div></div><div style=\"clear:both;\"></div><div class=\"NVCLMosaicCell\" style=\"max-width: 100%\"><div class=\"NVCLMosaicCellImg\" ><img title=\"Core Image at depth 0.005m\" class=\"NVCLMosaicImage\" src=\"https://www.mrt.tas.gov.au/NVCLDataServices/Display_Tray_Thumb.html?logid=013bb457-533f-46bb-adfa-932c4d2bb27&sampleno=5\" alt=\"Core Image\" ></div></div><div style=\"clear:both;\"></div><div class=\"NVCLMosaicCell\" style=\"max-width: 100%\"><div class=\"NVCLMosaicCellImg\" ><img title=\"Core Image at depth 0.005m\" class=\"NVCLMosaicImage\" src=\"https://www.mrt.tas.gov.au/NVCLDataServices/Display_Tray_Thumb.html?logid=013bb457-533f-46bb-adfa-932c4d2bb27&sampleno=6\" alt=\"Core Image\" ></div></div><div style=\"clear:both;\"></div><div class=\"NVCLMosaicCell\" style=\"max-width: 100%\"><div class=\"NVCLMosaicCellImg\" ><img title=\"Core Image at depth 0.005m\" class=\"NVCLMosaicImage\" src=\"https://www.mrt.tas.gov.au/NVCLDataServices/Display_Tray_Thumb.html?logid=013bb457-533f-46bb-adfa-932c4d2bb27&sampleno=7\" alt=\"Core Image\" ></div></div><div style=\"clear:both;\"></div><div class=\"NVCLMosaicCell\" style=\"max-width: 100%\"><div class=\"NVCLMosaicCellImg\" ><img title=\"Core Image at depth 0.005m\" class=\"NVCLMosaicImage\" src=\"https://www.mrt.tas.gov.au/NVCLDataServices/Display_Tray_Thumb.html?logid=013bb457-533f-46bb-adfa-932c4d2bb27&sampleno=8\" alt=\"Core Image\" ></div></div><div style=\"clear:both;\"></div><div class=\"NVCLMosaicCell\" style=\"max-width: 100%\"><div class=\"NVCLMosaicCellImg\" ><img title=\"Core Image at depth 0.005m\" class=\"NVCLMosaicImage\" src=\"https://www.mrt.tas.gov.au/NVCLDataServices/Display_Tray_Thumb.html?logid=013bb457-533f-46bb-adfa-932c4d2bb27&sampleno=9\" alt=\"Core Image\" ></div></div><div style=\"clear:both;\"></div><div class=\"NVCLMosaicCell\" style=\"max-width: 100%\"><div class=\"NVCLMosaicCellImg\" ><img title=\"Core Image at depth 0.005m\" class=\"NVCLMosaicImage\" src=\"https://www.mrt.tas.gov.au/NVCLDataServices/Display_Tray_Thumb.html?logid=013bb457-533f-46bb-adfa-932c4d2bb27&sampleno=10\" alt=\"Core Image\" ></div></div></div>\n",
      "    \n",
      "<script type =\"text/javascript\">\n",
      "    \n",
      " \n",
      "\t// the bellow is required to scale the tray map correctly in broswers that dont interpret the 100% height correctly   \t\t\n",
      "\tfunction resizeimgs() {\n",
      "     \t$('.pixelated').width($('.NVCLMosaicImage').width());\n",
      "     \t$('.NVCLMosaicCellContent').height($('.NVCLMosaicImage').height());\n",
      "\t}\n",
      "\n",
      "\tif ($('.pixelated').height()<=16){\n",
      "\t\t$( window ).resize(resizeimgs);\n",
      "\t\t$( window ).load(resizeimgs);\n",
      "\t}\n",
      "   \n",
      "    \n",
      "    </script>\n",
      "  </body>\n",
      "</html>\n",
      "\n"
     ]
    }
   ],
   "source": [
    "for n_id, dsid, ilog, depth_list, html in gen_core_images(reader, nvcl_id_list=my_nvclids, max_magnify = True):\n",
    "    html_str = str(html, encoding='utf-8', errors='ignore')\n",
    "    break\n",
    "print(html_str)\n",
    "    "
   ]
  },
  {
   "cell_type": "markdown",
   "metadata": {},
   "source": [
    "**Display it**"
   ]
  },
  {
   "cell_type": "code",
   "execution_count": 6,
   "metadata": {},
   "outputs": [
    {
     "data": {
      "text/html": [
       "\r\n",
       "\r\n",
       "\r\n",
       "\r\n",
       "\r\n",
       "\r\n",
       "<!DOCTYPE html>\r\n",
       "<html>\r\n",
       "  <head>\r\n",
       "    <title>NVCL Data Services :: Mosaic Web Service</title>\r\n",
       "    <link rel=\"stylesheet\" href=\"style/style.css\" type=\"text/css\"/>\r\n",
       "    <script\tsrc=\"https://ajax.googleapis.com/ajax/libs/jquery/1.11.3/jquery.min.js\"\ttype=\"text/javascript\"></script>\r\n",
       "<style>\r\n",
       ".pixelated {\r\n",
       "  image-rendering:optimizeSpeed;             /* Legal fallback */\r\n",
       "  image-rendering:-moz-crisp-edges;          /* Firefox        */\r\n",
       "  image-rendering:-o-crisp-edges;            /* Opera          */\r\n",
       "  image-rendering:-webkit-optimize-contrast; /* Safari         */\r\n",
       "  image-rendering:optimize-contrast;         /* CSS3 Proposed  */\r\n",
       "  image-rendering:crisp-edges;               /* CSS4 Proposed  */\r\n",
       "  image-rendering:pixelated;                 /* CSS4 Proposed  */\r\n",
       "  -ms-interpolation-mode:nearest-neighbor;   /* IE8+           */\r\n",
       "}\r\n",
       "\r\n",
       ".NVCLMosaicCell {\r\n",
       "\tdisplay:block;\r\n",
       "\tfloat:left;\r\n",
       "}\r\n",
       "\r\n",
       ".NVCLMosaicCellContent {\r\n",
       "\tdisplay:table;\r\n",
       "\ttable-layout:fixed;\r\n",
       "\twidth:100%;\r\n",
       "\theight: 100%;\r\n",
       "}\r\n",
       "\r\n",
       ".NVCLMosaicCellDepths {\r\n",
       "\tvertical-align:middle;\r\n",
       "\tdisplay: table-cell;\r\n",
       "\twidth:33%;\r\n",
       "}\r\n",
       "\r\n",
       ".NVCLMosaicCellPara {\r\n",
       "\ttext-align: center;\r\n",
       "\tmargin: 0;\r\n",
       "}\r\n",
       "\r\n",
       ".NVCLMosaicCellImg {\r\n",
       "\tdisplay:table-cell;\r\n",
       "\theight: 100%;\r\n",
       "}\r\n",
       "\r\n",
       ".NVCLMosaicImage {\r\n",
       "\tdisplay: block;\r\n",
       "\twidth: 100%;\r\n",
       "\r\n",
       "}\r\n",
       "</style>\r\n",
       "\r\n",
       "  </head>\r\n",
       "\r\n",
       "  <body>\r\n",
       "    <div class=\"NVCLMosaicContainer\" ><div class=\"NVCLMosaicCell\" style=\"max-width: 100%\"><div class=\"NVCLMosaicCellImg\" ><img title=\"Core Image at depth 0.005m\" class=\"NVCLMosaicImage\" src=\"https://www.mrt.tas.gov.au/NVCLDataServices/Display_Tray_Thumb.html?logid=013bb457-533f-46bb-adfa-932c4d2bb27&sampleno=0\" alt=\"Core Image\" ></div></div><div style=\"clear:both;\"></div><div class=\"NVCLMosaicCell\" style=\"max-width: 100%\"><div class=\"NVCLMosaicCellImg\" ><img title=\"Core Image at depth 0.005m\" class=\"NVCLMosaicImage\" src=\"https://www.mrt.tas.gov.au/NVCLDataServices/Display_Tray_Thumb.html?logid=013bb457-533f-46bb-adfa-932c4d2bb27&sampleno=1\" alt=\"Core Image\" ></div></div><div style=\"clear:both;\"></div><div class=\"NVCLMosaicCell\" style=\"max-width: 100%\"><div class=\"NVCLMosaicCellImg\" ><img title=\"Core Image at depth 0.005m\" class=\"NVCLMosaicImage\" src=\"https://www.mrt.tas.gov.au/NVCLDataServices/Display_Tray_Thumb.html?logid=013bb457-533f-46bb-adfa-932c4d2bb27&sampleno=2\" alt=\"Core Image\" ></div></div><div style=\"clear:both;\"></div><div class=\"NVCLMosaicCell\" style=\"max-width: 100%\"><div class=\"NVCLMosaicCellImg\" ><img title=\"Core Image at depth 0.005m\" class=\"NVCLMosaicImage\" src=\"https://www.mrt.tas.gov.au/NVCLDataServices/Display_Tray_Thumb.html?logid=013bb457-533f-46bb-adfa-932c4d2bb27&sampleno=3\" alt=\"Core Image\" ></div></div><div style=\"clear:both;\"></div><div class=\"NVCLMosaicCell\" style=\"max-width: 100%\"><div class=\"NVCLMosaicCellImg\" ><img title=\"Core Image at depth 0.005m\" class=\"NVCLMosaicImage\" src=\"https://www.mrt.tas.gov.au/NVCLDataServices/Display_Tray_Thumb.html?logid=013bb457-533f-46bb-adfa-932c4d2bb27&sampleno=4\" alt=\"Core Image\" ></div></div><div style=\"clear:both;\"></div><div class=\"NVCLMosaicCell\" style=\"max-width: 100%\"><div class=\"NVCLMosaicCellImg\" ><img title=\"Core Image at depth 0.005m\" class=\"NVCLMosaicImage\" src=\"https://www.mrt.tas.gov.au/NVCLDataServices/Display_Tray_Thumb.html?logid=013bb457-533f-46bb-adfa-932c4d2bb27&sampleno=5\" alt=\"Core Image\" ></div></div><div style=\"clear:both;\"></div><div class=\"NVCLMosaicCell\" style=\"max-width: 100%\"><div class=\"NVCLMosaicCellImg\" ><img title=\"Core Image at depth 0.005m\" class=\"NVCLMosaicImage\" src=\"https://www.mrt.tas.gov.au/NVCLDataServices/Display_Tray_Thumb.html?logid=013bb457-533f-46bb-adfa-932c4d2bb27&sampleno=6\" alt=\"Core Image\" ></div></div><div style=\"clear:both;\"></div><div class=\"NVCLMosaicCell\" style=\"max-width: 100%\"><div class=\"NVCLMosaicCellImg\" ><img title=\"Core Image at depth 0.005m\" class=\"NVCLMosaicImage\" src=\"https://www.mrt.tas.gov.au/NVCLDataServices/Display_Tray_Thumb.html?logid=013bb457-533f-46bb-adfa-932c4d2bb27&sampleno=7\" alt=\"Core Image\" ></div></div><div style=\"clear:both;\"></div><div class=\"NVCLMosaicCell\" style=\"max-width: 100%\"><div class=\"NVCLMosaicCellImg\" ><img title=\"Core Image at depth 0.005m\" class=\"NVCLMosaicImage\" src=\"https://www.mrt.tas.gov.au/NVCLDataServices/Display_Tray_Thumb.html?logid=013bb457-533f-46bb-adfa-932c4d2bb27&sampleno=8\" alt=\"Core Image\" ></div></div><div style=\"clear:both;\"></div><div class=\"NVCLMosaicCell\" style=\"max-width: 100%\"><div class=\"NVCLMosaicCellImg\" ><img title=\"Core Image at depth 0.005m\" class=\"NVCLMosaicImage\" src=\"https://www.mrt.tas.gov.au/NVCLDataServices/Display_Tray_Thumb.html?logid=013bb457-533f-46bb-adfa-932c4d2bb27&sampleno=9\" alt=\"Core Image\" ></div></div><div style=\"clear:both;\"></div><div class=\"NVCLMosaicCell\" style=\"max-width: 100%\"><div class=\"NVCLMosaicCellImg\" ><img title=\"Core Image at depth 0.005m\" class=\"NVCLMosaicImage\" src=\"https://www.mrt.tas.gov.au/NVCLDataServices/Display_Tray_Thumb.html?logid=013bb457-533f-46bb-adfa-932c4d2bb27&sampleno=10\" alt=\"Core Image\" ></div></div></div>\r\n",
       "    \r\n",
       "<script type =\"text/javascript\">\r\n",
       "    \r\n",
       " \r\n",
       "\t// the bellow is required to scale the tray map correctly in broswers that dont interpret the 100% height correctly   \t\t\r\n",
       "\tfunction resizeimgs() {\r\n",
       "     \t$('.pixelated').width($('.NVCLMosaicImage').width());\r\n",
       "     \t$('.NVCLMosaicCellContent').height($('.NVCLMosaicImage').height());\r\n",
       "\t}\r\n",
       "\r\n",
       "\tif ($('.pixelated').height()<=16){\r\n",
       "\t\t$( window ).resize(resizeimgs);\r\n",
       "\t\t$( window ).load(resizeimgs);\r\n",
       "\t}\r\n",
       "   \r\n",
       "    \r\n",
       "    </script>\r\n",
       "  </body>\r\n",
       "</html>\r\n"
      ],
      "text/plain": [
       "<IPython.core.display.HTML object>"
      ]
     },
     "execution_count": 6,
     "metadata": {},
     "output_type": "execute_result"
    }
   ],
   "source": [
    "import IPython\n",
    "from IPython.display import HTML\n",
    "IPython.display.HTML(html_str)"
   ]
  },
  {
   "cell_type": "code",
   "execution_count": null,
   "metadata": {},
   "outputs": [],
   "source": []
  },
  {
   "cell_type": "code",
   "execution_count": null,
   "metadata": {},
   "outputs": [],
   "source": []
  }
 ],
 "metadata": {
  "kernelspec": {
   "display_name": "Python 3",
   "language": "python",
   "name": "python3"
  },
  "language_info": {
   "codemirror_mode": {
    "name": "ipython",
    "version": 3
   },
   "file_extension": ".py",
   "mimetype": "text/x-python",
   "name": "python",
   "nbconvert_exporter": "python",
   "pygments_lexer": "ipython3",
   "version": "3.6.9"
  }
 },
 "nbformat": 4,
 "nbformat_minor": 4
}
