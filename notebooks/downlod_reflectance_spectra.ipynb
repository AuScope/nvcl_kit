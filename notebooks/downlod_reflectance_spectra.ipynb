{
 "cells": [
  {
   "cell_type": "markdown",
   "metadata": {},
   "source": [
    "# NVCL Spectral Data Download Notebook\n",
    "\n",
    "This notebook demonstrates how you can query the NVCLDataservices to download raw spectral reflectance data to csv files.\n",
    "\n",
    "Set the 'state' variable to select the state you want to query from.  Then run the notebook.\n",
    "\n",
    "The notebook will loop over the first 'maxboreholes' datasets available from the selected state and save the Reflectance spectral data into csv files named 'state/datasetname_spectra.csv'.  Adjust the 'maxboreholes' variable as high as you like but be aware that increasing this value will cause a proportional increase in execution time and disk space consumption.  For example, 20 boreholes from SA takes me around 15 minutes and consumes around 5Gb of disk space.\n",
    "\n",
    "the 'spectrallayername' variable can also be changed to 'Base Refl' to get thermal spectra. Note: not all datasets will have thermal."
   ]
  },
  {
   "cell_type": "code",
   "execution_count": 21,
   "metadata": {},
   "outputs": [],
   "source": [
    "from nvcl_kit.reader import NVCLReader\n",
    "from nvcl_kit.param_builder import param_builder\n",
    "import array\n",
    "import os\n",
    "import numpy as np\n",
    "\n",
    "# state can be:  'csiro', 'nsw', 'tas', 'vic', 'qld', 'sa', 'wa', 'nt'\n",
    "state = 'nsw'\n",
    "\n",
    "# change spectrallayername to 'Base Refl' for thermal data. Note: not all datasets will have thermal.\n",
    "spectrallayername = 'Reflectance'\n",
    "\n",
    "maxboreholes = 20\n"
   ]
  },
  {
   "cell_type": "code",
   "execution_count": 22,
   "metadata": {},
   "outputs": [],
   "source": [
    "param = param_builder(state, max_boreholes=maxboreholes)\n",
    "if not param:\n",
    "    print(f\"Cannot build parameters: {param}\")\n",
    "\n",
    "\n",
    "# Initialise reader\n",
    "reader = NVCLReader(param)\n",
    "if not reader.wfs:\n",
    "    print(f\"ERROR! Cannot contact WFS service for {state}\")\n"
   ]
  },
  {
   "cell_type": "code",
   "execution_count": 23,
   "metadata": {},
   "outputs": [],
   "source": [
    "nvcl_id_list = reader.get_nvcl_id_list()\n"
   ]
  },
  {
   "cell_type": "code",
   "execution_count": 24,
   "metadata": {},
   "outputs": [
    {
     "name": "stdout",
     "output_type": "stream",
     "text": [
      "nvcl_kit.svc_interface -- WARNING - _get_response_str: OS Error: HTTP Error 500: \n"
     ]
    },
    {
     "name": "stderr",
     "output_type": "stream",
     "text": [
      "WARNING:nvcl_kit.svc_interface:OS Error: HTTP Error 500: \n"
     ]
    },
    {
     "name": "stdout",
     "output_type": "stream",
     "text": [
      "ERROR! COAL_070748  expected 66164912 bytes but got 0\n",
      "nvcl_kit.svc_interface -- WARNING - _get_response_str: OS Error: HTTP Error 500: \n"
     ]
    },
    {
     "name": "stderr",
     "output_type": "stream",
     "text": [
      "WARNING:nvcl_kit.svc_interface:OS Error: HTTP Error 500: \n"
     ]
    },
    {
     "name": "stdout",
     "output_type": "stream",
     "text": [
      "ERROR! MIN_000180  expected 39756508 bytes but got 0\n",
      "nvcl_kit.svc_interface -- WARNING - _get_response_str: OS Error: HTTP Error 500: \n"
     ]
    },
    {
     "name": "stderr",
     "output_type": "stream",
     "text": [
      "WARNING:nvcl_kit.svc_interface:OS Error: HTTP Error 500: \n"
     ]
    },
    {
     "name": "stdout",
     "output_type": "stream",
     "text": [
      "ERROR! MIN_000539  expected 9752600 bytes but got 0\n"
     ]
    }
   ],
   "source": [
    "\n",
    "\n",
    "for nvcl_id in nvcl_id_list[0:maxboreholes]:\n",
    "    spectrallog_data_list = reader.get_spectrallog_data(nvcl_id)\n",
    "    isExist = os.path.exists(state)\n",
    "    if not isExist:\n",
    "        os.makedirs(state)\n",
    "    for sld in spectrallog_data_list:\n",
    "        if (sld.log_name == spectrallayername):\n",
    "            sl_bin = reader.get_spectrallog_datasets(sld.log_id, start_sample_no=\"0\", end_sample_no=sld.sample_count-1)\n",
    "            if len(sl_bin) != sld.sample_count * len(sld.wavelengths) * 4:\n",
    "                print(f\"ERROR! {nvcl_id}  expected {sld.sample_count * len(sld.wavelengths) * 4} bytes but got {len(sl_bin)}\")\n",
    "                continue\n",
    "            f = open(state +\"\\\\\" + nvcl_id +'_' + spectrallayername+\"_spectra.csv\", \"w\")\n",
    "            f.write(','.join(str(item) for item in sld.wavelengths)+'\\n')\n",
    "\n",
    "            wvlcount = len(sld.wavelengths)\n",
    "            for i in range(sld.sample_count):\n",
    "                U = array.array(\"f\")\n",
    "                U.frombytes(sl_bin[(i*wvlcount)*4:((i+1)*wvlcount)*4])\n",
    "                f.write(','.join(str(item) for item in U)+'\\n')\n",
    "\n",
    "            f.close()\n"
   ]
  }
 ],
 "metadata": {
  "kernelspec": {
   "display_name": "Python 3",
   "language": "python",
   "name": "python3"
  },
  "language_info": {
   "codemirror_mode": {
    "name": "ipython",
    "version": 3
   },
   "file_extension": ".py",
   "mimetype": "text/x-python",
   "name": "python",
   "nbconvert_exporter": "python",
   "pygments_lexer": "ipython3",
   "version": "3.9.13"
  },
  "orig_nbformat": 4
 },
 "nbformat": 4,
 "nbformat_minor": 2
}
