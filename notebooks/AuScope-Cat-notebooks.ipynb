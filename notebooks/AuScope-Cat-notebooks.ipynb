{
 "cells": [
  {
   "cell_type": "markdown",
   "id": "3b8eff62",
   "metadata": {},
   "source": [
    "# Jupyter notebooks demonstrating AuScope-Cat\n",
    "## AuScope-Cat is a Python package that allows access to AuScope's catalogue of geoscience datasets from sources all over Australia\n",
    "\n",
    "| Name | Description |\n",
    "| ------ | ------ |\n",
    "| api-search-download.ipynb | Demonstrate searching and downloading AuScope Portal data| \n",
    "| api-search-records.ipynb | Search the AuScope Portal for records | \n",
    "| magnetic-anomalies.ipynb | Search and visualize anomaly 3d models | \n",
    "| search-download-tutorial.ipynb | AuScope-Cat search and download tutorial | \n",
    "| tsg-search-download.ipynb| Searching and downloading TSG files | \n",
    "| Source code | https://github.com/AuScope/AuScope-Cat/tree/main/jupyter-notebooks|\n",
    "| Trial AuScope-Cat on Binder | [![Binder](https://mybinder.org/badge_logo.svg)](https://mybinder.org/v2/gh/AuScope/AuScope-Cat/HEAD)|\n",
    "\n",
    "\n"
   ]
  }
 ],
 "metadata": {
  "kernelspec": {
   "display_name": "Python 3",
   "language": "python",
   "name": "python3"
  },
  "language_info": {
   "codemirror_mode": {
    "name": "ipython",
    "version": 3
   },
   "file_extension": ".py",
   "mimetype": "text/x-python",
   "name": "python",
   "nbconvert_exporter": "python",
   "pygments_lexer": "ipython3",
   "version": "3.13.1"
  }
 },
 "nbformat": 4,
 "nbformat_minor": 5
}
