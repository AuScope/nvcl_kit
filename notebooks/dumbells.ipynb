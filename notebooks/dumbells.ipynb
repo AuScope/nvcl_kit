{
 "cells": [
  {
   "cell_type": "markdown",
   "metadata": {},
   "source": [
    "# NVCL_KIT Dumbell Plot Demonstration"
   ]
  },
  {
   "cell_type": "markdown",
   "metadata": {},
   "source": [
    "*Acknowledgment: Borehole dataset courtesy of South Australia Department for Energy and Mining. (https://energymining.sa.gov.au/minerals)*\n"
   ]
  },
  {
   "cell_type": "code",
   "execution_count": 1,
   "metadata": {},
   "outputs": [],
   "source": [
    "from nvcl_kit.reader import NVCLReader"
   ]
  },
  {
   "cell_type": "code",
   "execution_count": 2,
   "metadata": {},
   "outputs": [],
   "source": [
    "from types import SimpleNamespace"
   ]
  },
  {
   "cell_type": "code",
   "execution_count": 3,
   "metadata": {},
   "outputs": [],
   "source": [
    "param = SimpleNamespace()"
   ]
  },
  {
   "cell_type": "markdown",
   "metadata": {},
   "source": [
    "Set the URL for the WFS service"
   ]
  },
  {
   "cell_type": "code",
   "execution_count": 4,
   "metadata": {},
   "outputs": [],
   "source": [
    "param.WFS_URL = \"https://sarigdata.pir.sa.gov.au/geoserver/ows\""
   ]
  },
  {
   "cell_type": "markdown",
   "metadata": {},
   "source": [
    "Set the URL for the NVCL service"
   ]
  },
  {
   "cell_type": "code",
   "execution_count": 5,
   "metadata": {},
   "outputs": [],
   "source": [
    "param.NVCL_URL = \"https://sarigdata.pir.sa.gov.au/nvcl/NVCLDataServices\""
   ]
  },
  {
   "cell_type": "code",
   "execution_count": 6,
   "metadata": {},
   "outputs": [],
   "source": [
    "param.MAX_BOREHOLES = 20"
   ]
  },
  {
   "cell_type": "markdown",
   "metadata": {},
   "source": [
    "Initialise reader object and check for errors"
   ]
  },
  {
   "cell_type": "code",
   "execution_count": 7,
   "metadata": {},
   "outputs": [],
   "source": [
    "reader = NVCLReader(param)\n",
    "if not reader.wfs:\n",
    "        print(\"ERROR!\")"
   ]
  },
  {
   "cell_type": "markdown",
   "metadata": {},
   "source": [
    "Get borehole information from WFS service"
   ]
  },
  {
   "cell_type": "code",
   "execution_count": 8,
   "metadata": {},
   "outputs": [],
   "source": [
    "bh_list = reader.get_boreholes_list()"
   ]
  },
  {
   "cell_type": "markdown",
   "metadata": {},
   "source": [
    "A simple function to get first set of borehole data given an NVCL id"
   ]
  },
  {
   "cell_type": "code",
   "execution_count": 9,
   "metadata": {},
   "outputs": [],
   "source": [
    "def get_bh_data(nvcl_id):\n",
    "    imagelog_data_list = reader.get_imagelog_data(nvcl_id)\n",
    "    for ild in imagelog_data_list:\n",
    "        # Log name has 2 parts:\n",
    "        # 1. Min1,2,3 = 1st, 2nd, 3rd most common mineral\n",
    "        #    OR Grp1,2,3 = 1st, 2nd, 3rd most common group of minerals\n",
    "        # 2. uTSAV = visible light, uTSAS = shortwave IR, uTSAT = thermal IR\n",
    "        #\n",
    "        # These combine to give us a class name such as 'Grp1 uTSAS'\n",
    "        #\n",
    "        # Here we extract data for log type '1' and log name 'Grp1 uTSAS'\n",
    "        if ild.log_type == '1' and ild.log_name == 'Grp1 uTSAS':\n",
    "            \n",
    "            # Read top 5 mineral entries, at a 20 depth metre spacing for 'Grp1 uTSAS'\n",
    "            bh_data = reader.get_borehole_data(ild.log_id, 20, 'Grp1 uTSAS', top_n=5)\n",
    "            return bh_data\n",
    "    return None\n"
   ]
  },
  {
   "cell_type": "markdown",
   "metadata": {},
   "source": [
    "Get data and names from first and second boreholes"
   ]
  },
  {
   "cell_type": "code",
   "execution_count": 10,
   "metadata": {},
   "outputs": [],
   "source": [
    "bh_data1 = get_bh_data(bh_list[0]['nvcl_id'])\n",
    "bh_name1 = bh_list[0]['name']\n",
    "\n",
    "bh_data2 = get_bh_data(bh_list[1]['nvcl_id'])\n",
    "bh_name2 = bh_list[1]['name']"
   ]
  },
  {
   "cell_type": "markdown",
   "metadata": {},
   "source": [
    "Get the list of depths that both boreholes have in common"
   ]
  },
  {
   "cell_type": "code",
   "execution_count": 11,
   "metadata": {
    "scrolled": false
   },
   "outputs": [],
   "source": [
    "depths = list(set(bh_data1).intersection(set(bh_data2)))"
   ]
  },
  {
   "cell_type": "markdown",
   "metadata": {},
   "source": [
    "Assemble the Xs and Ys etc. to make the graph"
   ]
  },
  {
   "cell_type": "code",
   "execution_count": 12,
   "metadata": {},
   "outputs": [],
   "source": [
    "# y1 - list of y values for borehole1\n",
    "# y2 - list of y values for borehole2\n",
    "# x - list of x values common to both boreholes \n",
    "# colours - list of colours for each (x,y1) & (x,y2)\n",
    "# dup_set - a set used to make sure a dumbell isn't drawn twice\n",
    "# legend_set - a set used to assemble colours & text for the legend\n",
    "y1, y2, x, colours, dup_set, legend_set = ([],[], [], [], set(), set())\n",
    "\n",
    "# Loop over depth range\n",
    "for dep in depths:\n",
    "    colour_idx = 0\n",
    "    # Loop over all mineral classes at a depth for borehole 1\n",
    "    for elem1 in bh_data1[dep]:\n",
    "        \n",
    "        # Loop over all mineral classes at a depth for borehole 2\n",
    "        for elem2 in bh_data2[dep]:\n",
    "            # If bore1 and bore2 have the same mineral class, and we have not done this combination yet \n",
    "            if elem1.classText == elem2.classText and (dep, elem1.classCount, elem2.classCount) not in dup_set:\n",
    "                y1.append(elem1.classCount)\n",
    "                x.append(dep+colour_idx)\n",
    "                y2.append(elem2.classCount)\n",
    "                colours.append(elem1.colour)\n",
    "                legend_set.add((elem1.colour, elem1.classText))\n",
    "                dup_set.add((dep, elem1.classCount, elem2.classCount))\n",
    "                # Slightly change x value so that dumbells aren't drawn on top of one another \n",
    "                colour_idx += 5\n",
    "                \n",
    "        "
   ]
  },
  {
   "cell_type": "markdown",
   "metadata": {},
   "source": [
    "Plot the graph"
   ]
  },
  {
   "cell_type": "code",
   "execution_count": 13,
   "metadata": {
    "scrolled": false
   },
   "outputs": [
    {
     "data": {
      "image/png": "[encoded data removed]",
      "text/plain": [
       "<Figure size 432x288 with 1 Axes>"
      ]
     },
     "metadata": {
      "needs_background": "light"
     },
     "output_type": "display_data"
    }
   ],
   "source": [
    "import matplotlib.pyplot as plt\n",
    "import matplotlib.patches as mpatches\n",
    "\n",
    "# Setup vertical lines, transparency=1.0\n",
    "plt.vlines(x=x, ymin=y1, ymax=y2, color=colours, alpha=1.0)\n",
    "\n",
    "# Borehole 1 is magenta, size=35, transparency=0.5\n",
    "plt.scatter(x, y1, s=35, c='magenta', alpha=0.5)\n",
    "\n",
    "# Borehole 2 is green, size=35, transparency=0.5\n",
    "plt.scatter(x, y2, s=35, c='green', alpha=0.5)\n",
    "\n",
    "# Assemble the legend\n",
    "legend_list = [mpatches.Patch(color=colour, label=mineral_name) for colour, mineral_name in list(legend_set)]\n",
    "legend_list.append(mpatches.Patch(color='white', label=' '))\n",
    "legend_list.append(mpatches.Patch(color='magenta', label=bh_name1))\n",
    "legend_list.append(mpatches.Patch(color='green', label=bh_name2))\n",
    "\n",
    "# Display the graph\n",
    "plt.legend(handles=legend_list)\n",
    "plt.ylabel('Mineral count')\n",
    "plt.xlabel('Depth (m)')\n",
    "plt.title(\"Comparison of phyllosilicate minerals in {} and {}\".format(bh_name1, bh_name2))\n",
    "plt.show()"
   ]
  },
  {
   "cell_type": "code",
   "execution_count": null,
   "metadata": {},
   "outputs": [],
   "source": []
  }
 ],
 "metadata": {
  "kernelspec": {
   "display_name": "Python 3",
   "language": "python",
   "name": "python3"
  },
  "language_info": {
   "codemirror_mode": {
    "name": "ipython",
    "version": 3
   },
   "file_extension": ".py",
   "mimetype": "text/x-python",
   "name": "python",
   "nbconvert_exporter": "python",
   "pygments_lexer": "ipython3",
   "version": "3.8.2"
  }
 },
 "nbformat": 4,
 "nbformat_minor": 4
}
