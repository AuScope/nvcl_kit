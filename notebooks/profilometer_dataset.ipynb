{
 "cells": [
  {
   "cell_type": "markdown",
   "metadata": {
    "tags": []
   },
   "source": [
    "# NVCL_KIT Profilometer Dataset Demonstration"
   ]
  },
  {
   "cell_type": "markdown",
   "metadata": {},
   "source": [
    "*Acknowledgement: Borehole dataset courtesy of Mineral Resources Tasmania. (https://www.mrt.tas.gov.au/home)*"
   ]
  },
  {
   "cell_type": "code",
   "execution_count": 1,
   "metadata": {},
   "outputs": [],
   "source": [
    "from nvcl_kit.reader import NVCLReader\n",
    "from nvcl_kit.param_builder import param_builder\n",
    "from nvcl_kit.generators import gen_core_images"
   ]
  },
  {
   "cell_type": "markdown",
   "metadata": {
    "tags": []
   },
   "source": [
    "**Build parameters**"
   ]
  },
  {
   "cell_type": "code",
   "execution_count": 2,
   "metadata": {},
   "outputs": [],
   "source": [
    "param = param_builder('tas')\n",
    "if not param:\n",
    "    print(\"Cannot build parameters for 'tas'\")"
   ]
  },
  {
   "cell_type": "markdown",
   "metadata": {},
   "source": [
    "**Initialise reader object**"
   ]
  },
  {
   "cell_type": "code",
   "execution_count": 3,
   "metadata": {},
   "outputs": [],
   "source": [
    "reader = NVCLReader(param)\n",
    "if not reader.wfs:\n",
    "    print(\"ERROR!\")"
   ]
  },
  {
   "cell_type": "markdown",
   "metadata": {
    "tags": []
   },
   "source": [
    "**Get nvcl id from a borehole named 'C45'**"
   ]
  },
  {
   "cell_type": "code",
   "execution_count": 4,
   "metadata": {},
   "outputs": [
    {
     "name": "stdout",
     "output_type": "stream",
     "text": [
      "['19211']\n"
     ]
    }
   ],
   "source": [
    "my_nvclids = reader.filter_feat_list(nvcl_ids_only=True, name='C45')\n",
    "print(my_nvclids)"
   ]
  },
  {
   "cell_type": "markdown",
   "metadata": {
    "tags": []
   },
   "source": [
    "**How do we get profilometer metadata?**"
   ]
  },
  {
   "cell_type": "code",
   "execution_count": 5,
   "metadata": {},
   "outputs": [
    {
     "name": "stdout",
     "output_type": "stream",
     "text": [
      "profilometer log id = fcb4c36a-6541-4429-86db-6b7d4d355b0\n",
      "log name = Profile log\n",
      "max value = 83.43372\n",
      "min value = 0.0014305115\n",
      "floats per sample = 128.0\n",
      "sample count = 36162\n",
      "\n"
     ]
    }
   ],
   "source": [
    "profilometer_data_list = reader.get_profilometer_data(*my_nvclids)\n",
    "for pdl in profilometer_data_list:\n",
    "    print(f\"profilometer log id = {pdl.log_id}\\n\"\n",
    "          f\"log name = {pdl.log_name}\\n\"\n",
    "          f\"max value = {pdl.max_val}\\n\"\n",
    "          f\"min value = {pdl.min_val}\\n\"\n",
    "          f\"floats per sample = {pdl.floats_per_sample}\\n\"\n",
    "          f\"sample count = {pdl.sample_count}\\n\")\n"
   ]
  },
  {
   "cell_type": "markdown",
   "metadata": {},
   "source": [
    "**How do we get a profilometer dataset?**"
   ]
  },
  {
   "cell_type": "markdown",
   "metadata": {},
   "source": [
    "Get the profilometer log id"
   ]
  },
  {
   "cell_type": "code",
   "execution_count": 6,
   "metadata": {},
   "outputs": [],
   "source": [
    "prof_log_id = profilometer_data_list[0].log_id"
   ]
  },
  {
   "cell_type": "markdown",
   "metadata": {},
   "source": [
    "Retrieve dataset"
   ]
  },
  {
   "cell_type": "code",
   "execution_count": 7,
   "metadata": {},
   "outputs": [],
   "source": [
    "prof_dataset = reader.get_profilometer_datasets(prof_log_id)"
   ]
  },
  {
   "cell_type": "markdown",
   "metadata": {},
   "source": [
    "Print sample range"
   ]
  },
  {
   "cell_type": "code",
   "execution_count": 19,
   "metadata": {},
   "outputs": [
    {
     "name": "stdout",
     "output_type": "stream",
     "text": [
      "0..36161\n"
     ]
    }
   ],
   "source": [
    "print(f\"0..{len(prof_dataset)-1}\")"
   ]
  },
  {
   "cell_type": "markdown",
   "metadata": {},
   "source": [
    "Print first two datasets"
   ]
  },
  {
   "cell_type": "code",
   "execution_count": 9,
   "metadata": {},
   "outputs": [
    {
     "name": "stdout",
     "output_type": "stream",
     "text": [
      "namespace(floatprofdata=[25.209743, 25.13525, 25.007313, 24.856705, 24.672089, 24.566822, 15.295486, 15.295486, 15.295486, 15.295486, 15.295486, 15.295486, 15.295486, 15.295486, 15.497919, 15.6258545, 15.771606, 16.07768, 16.377277, 16.701168, 16.853397, 17.22263, 37.01389, 37.298912, 37.885155, 38.498924, 39.067352, 39.405815, 39.9791, 40.468174, 40.968582, 41.248745, 41.509476, 42.005028, 42.40989, 42.61394, 42.873055, 43.127304, 44.521645, 44.521645, 44.521645, 44.521645, 44.521645, 44.521645, 44.521645, 44.521645, 44.51355, 44.51355, 44.51355, 44.51355, 44.51355, 44.51355, 44.51355, 44.51355, 44.691692, 44.7176, 44.720844, 44.7338, 44.741894, 44.746754, 44.749992, 44.762947, 44.772663, 44.78886, 44.795334, 44.795334, 44.796955, 44.803432, 44.805054, 44.80991, 44.863354, 44.86659, 44.86821, 44.87145, 44.87793, 44.887646, 44.890884, 44.92975, 44.93461, 44.955658, 44.98643, 44.99291, 45.002625, 45.0091, 45.01072, 45.01072, 45.01072, 45.01072, 45.01072, 45.01072, 45.01396, 45.01072, 45.01072, 45.0091, 45.0091, 45.0091, 45.001007, 44.99129, 44.99129, 44.98481, 44.98319, 44.98157, 44.80991, 44.78724, 44.783997, 44.78238, 44.777523, 44.777523, 44.777523, 44.77104, 44.77104, 44.762947, 44.762947, 44.75971, 44.75647, 44.75485, 44.746754, 44.73865, 44.60586, 44.583187, 44.583187, 44.583187, 44.583187, 44.581566, 44.57347, 44.563755, 44.563755, 44.563755], sampleNo=0)\n",
      "namespace(floatprofdata=[44.563755, 44.563755, 44.529747, 44.511932, 44.51031, 44.494118, 43.66658, 43.658485, 43.64229, 43.61638, 43.60828, 43.595325, 43.595325, 43.595325, 43.595325, 43.595325, 43.595325, 43.595325, 43.596943, 43.596943, 43.627716, 43.64229, 44.003426, 44.019623, 44.027718, 44.032578, 44.053627, 44.053627, 44.053627, 44.053627, 44.032578, 44.053627, 44.053627, 44.053627, 44.06011, 44.06011, 44.053627, 44.045532, 44.04391, 44.009903, 43.998566, 43.98075, 43.966175, 43.966175, 43.966175, 43.966175, 43.961323, 43.961323, 43.9597, 43.956463, 43.95484, 43.95322, 43.951603, 43.948368, 43.49978, 43.49978, 43.49978, 43.49978, 43.49978, 43.49978, 43.49978, 43.49978, 43.52245, 43.551598, 43.569412, 43.569412, 43.582367, 43.61638, 43.624474, 43.661724, 44.4925, 44.4925, 44.494118, 44.51355, 44.516792, 44.51841, 44.523266, 44.524887, 44.526505, 44.526505, 44.523266, 44.51841, 44.516792, 44.51355, 44.4925, 44.48764, 44.275494, 44.269012, 44.239864, 44.238243, 44.238243, 44.236626, 44.236626, 44.236626, 44.236626, 44.236626, 44.238243, 44.238243, 44.238243, 44.256058, 44.264153, 44.28845, 44.581566, 44.583187, 44.591286, 44.592903, 44.592903, 44.592903, 44.592903, 44.592903, 44.592903, 44.592903, 44.592903, 44.571854, 44.54594, 44.539463, 44.53137, 44.51841, 42.366165, 42.32406, 42.26576, 42.210697, 42.204216, 42.14916, 42.082764, 42.055233, 42.05199, 42.05199], sampleNo=1)\n"
     ]
    }
   ],
   "source": [
    "print(prof_dataset[0])\n",
    "print(prof_dataset[1])"
   ]
  },
  {
   "cell_type": "markdown",
   "metadata": {},
   "source": [
    "**How to get the corresponding depths?**\n",
    "\n",
    "_Note that the depth range is the same are the sample range above_"
   ]
  },
  {
   "cell_type": "code",
   "execution_count": 14,
   "metadata": {},
   "outputs": [
    {
     "name": "stdout",
     "output_type": "stream",
     "text": [
      "depth range: 0..36161\n",
      "start depth: 2.502551\n",
      "end depth: 227.99773\n",
      "sample of depths:\n",
      "['2.502551', '4.992771', '8.012938', '10.920521', '13.840709', '16.7', '19.615181', '22.547447', '25.60134', '28.723495', '32.079166', '35.043903', '37.980125', '40.93249', '44.215366', '47.218693', '50.56307', '53.60625', '56.73261', '59.54028', '62.38592', '65.58292', '68.700424', '71.15797', '73.43757', '76.22075', '79.29942', '82.65683', '86.06237', '89.50994', '92.63504', '96.1406', '99.28569', '102.45959', '105.4', '108.4983', '111.65202', '114.67356', '118.00968', '121.09581', '124.13446', '127.23565', '130.49626', '133.80756', '137.23865', '140.78365', '144.39944', '147.95395', '151.52588', '155.00046', '158.31346', '161.75739', '165.28323', '168.68573', '172.225', '175.87427', '179.55', '182.45221', '185.51074', '188.94846', '192.38425', '195.77065', '197.80666', '200.7924', '203.96864', '207.11281', '210.28452', '213.28375', '216.1176', '219.24298', '222.35057', '225.65457', '227.99042']\n"
     ]
    }
   ],
   "source": [
    "depth_list = reader.get_tray_depths(prof_log_id);\n",
    "maximum_image_no = len(depth_list)\n",
    "print(f\"depth range: 0..{maximum_image_no -1}\")\n",
    "print(f\"start depth: {depth_list[0].start_value}\")\n",
    "print(f\"end depth: {depth_list[-1].start_value}\")\n",
    "print(f\"sample of depths:\\n{[d.start_value for d in depth_list[:maximum_image_no:500]]}\")\n"
   ]
  },
  {
   "cell_type": "code",
   "execution_count": null,
   "metadata": {},
   "outputs": [],
   "source": []
  }
 ],
 "metadata": {
  "kernelspec": {
   "display_name": "NVCL KIT 3",
   "language": "python",
   "name": "myenv-nvcl-kit3"
  },
  "language_info": {
   "codemirror_mode": {
    "name": "ipython",
    "version": 3
   },
   "file_extension": ".py",
   "mimetype": "text/x-python",
   "name": "python",
   "nbconvert_exporter": "python",
   "pygments_lexer": "ipython3",
   "version": "3.8.10"
  }
 },
 "nbformat": 4,
 "nbformat_minor": 4
}
