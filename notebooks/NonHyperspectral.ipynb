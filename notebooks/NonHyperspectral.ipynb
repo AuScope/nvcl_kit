{
 "cells": [
  {
   "cell_type": "markdown",
   "id": "49900666-3c69-4081-ae5a-0b43cd969431",
   "metadata": {},
   "source": [
    "### Script to retrieve element names and unit suffixes from non-hyperspectral datasets in the NVCL Data Services\n",
    "\n",
    "Acknowledgement: Adapted from Python code written by Shane Mule"
   ]
  },
  {
   "cell_type": "code",
   "execution_count": 1,
   "id": "7cc00a09-7d83-4050-a67e-b778f3122f3d",
   "metadata": {
    "tags": []
   },
   "outputs": [],
   "source": [
    "from types import SimpleNamespace\n",
    "import yaml\n",
    "import json\n",
    "\n",
    "from nvcl_kit.reader import NVCLReader\n",
    "from nvcl_kit.param_builder import param_builder\n",
    "\n",
    "import re\n",
    "\n",
    "from periodictable import elements"
   ]
  },
  {
   "cell_type": "code",
   "execution_count": 2,
   "id": "9cf724cd-4e12-432b-98cb-87e1a907028b",
   "metadata": {},
   "outputs": [],
   "source": [
    "def find_nonhyperspectral(nvcl_id_list, provider, reader):\n",
    "    ''' This extracts all the names of the non-hyperspectral datasets from NVCL\n",
    "        and cleans them up\n",
    "        :param nvcl_id_list: list of NVCL ids\n",
    "        :param provider: provider name e.g. 'vic', 'tas' etc.\n",
    "        :param reader: NVCLReader object initialised for the 'provider' \n",
    "        :returns: tuple (geophysics, elements, suffixes)\n",
    "    '''\n",
    "    #print(f\"Found NVCL IDs for {provider.upper()}: {nvcl_id_list[:20]}\")\n",
    "    geophys_cnt = 0\n",
    "    geophys_set = set()\n",
    "    raw_alg_set = set()\n",
    "    old_elements_set = set()\n",
    "    for nvcl_id in nvcl_id_list:\n",
    "        logs_data_list = reader.get_logs_data(nvcl_id)\n",
    "        if not logs_data_list:\n",
    "            #print(\"No NVCL data!\")\n",
    "            continue\n",
    "        for ldl in logs_data_list:\n",
    "            if hasattr(ldl, 'log_name') and ldl.log_type not in ['1']:\n",
    "                # Geophysics\n",
    "                if re.search(r\"(magsus|mag sus|cond)\", ldl.log_name, re.IGNORECASE):\n",
    "                    geophys_cnt += 1\n",
    "                    geophys_set.add(ldl.log_name)\n",
    "                # Elements\n",
    "                if re.search(r\"ppm|pct|%|per|arsen|Sillimanite|PbZn\", ldl.log_name, re.IGNORECASE) \\\n",
    "                    or re.search(r\"^(\" + '|'.join([str(x) for x in list(elements)])+r\")$\", ldl.log_name, re.IGNORECASE) \\\n",
    "                    or re.search(r\"^(\" + '|'.join([str(x) for x in list(elements)]) + r\")\\s+.*$\", ldl.log_name, re.IGNORECASE):\n",
    "                    # print(repr(ldl.log_name))\n",
    "                    raw_alg_set.add(ldl.log_name)\n",
    "    alg_list = list(raw_alg_set)\n",
    "    ele_list = [re.sub(r'ppm|pct|per', r'', alg, flags=re.IGNORECASE) for alg in alg_list]\n",
    "    ele_list = [re.sub(r'([A-Za-z0-9]+)(_| )*(.*)', r'\\1', ele) for ele in ele_list]\n",
    "    ele_list = [re.sub(r'(\\w+)(0|1|SFA)', r'\\1', ele) for ele in ele_list]\n",
    "    suff_list = [a.replace(b, '') for a, b in zip(alg_list, ele_list)]\n",
    "    suff_list = [re.sub(r'^(_.*)', r' \\1', suff) for suff in suff_list]\n",
    "    ele_list = [re.sub(r'Arsen$', 'Arsenic', ele, flags=re.IGNORECASE) for ele in ele_list]\n",
    "    e_list = []\n",
    "    for ele in ele_list:\n",
    "        if len(ele) > 2:\n",
    "            e = ele[0].upper() + ele[1].lower() + ele[2:]\n",
    "        elif len(ele) > 1:\n",
    "            e = ele[0].upper() + ele[1].lower()\n",
    "        else:\n",
    "            e = ele[0].upper()\n",
    "        e_list.append(e)\n",
    "    ele_list = e_list\n",
    "    return geophys_set, set(ele_list), set(suff_list)"
   ]
  },
  {
   "cell_type": "code",
   "execution_count": 3,
   "id": "e8f056c3-07ba-43da-a141-6a762193628e",
   "metadata": {
    "tags": []
   },
   "outputs": [],
   "source": [
    "# List of service providers\n",
    "provider_list = ['nsw', 'csiro', 'tas', 'vic', 'qld', 'wa', 'nt', 'sa']"
   ]
  },
  {
   "cell_type": "code",
   "execution_count": 4,
   "id": "04e6d9de-e821-4dc2-ada3-9d192f738b19",
   "metadata": {},
   "outputs": [
    {
     "name": "stdout",
     "output_type": "stream",
     "text": [
      "\n",
      "\n",
      "NSW:\n",
      "\n",
      "Geophysics: {'Cond:Mhos/m'}\n",
      "Elements: {'Co', 'Sillimanite', 'Fe', 'Sand', 'Au', 'Sandstone', 'Coal', 'Bi', 'As', 'Cu', 'Clay', 'Ag', 'Cr', 'Cd', 'Pb', 'Ni', 'Siltstone', 'Zn', 'Sb', 'Limestone', 'Pd', 'Sn', 'Claystone', 'W', 'Mn', 'Pt', 'Ti'}\n",
      "Suffixes: {' (Ti)', '', 'ppm', ' ppm', ' (%)', ' (ppm)', 'pct', ' %', ' %(%)'}\n",
      "\n",
      "\n",
      "CSIRO:\n",
      "\n",
      "Geophysics: set()\n",
      "Elements: set()\n",
      "Suffixes: set()\n",
      "\n",
      "\n",
      "TAS:\n",
      "\n",
      "Geophysics: {'Mag sus', 'Mag Sus', 'Magsus', 'MAGSUS (SIx10 -5)'}\n",
      "Elements: {'Na', 'Ce', 'P', 'Te', 'Co', 'Yb', 'Mt', 'QtzFsp', 'HrEE', 'Fe', 'Q', 'S', 'A', 'Au', 'Y', 'Zr', 'Sm', 'Bi', 'Rb', 'Cu', 'As', 'Ag', 'Se', 'Thite', 'Cr', 'K', 'Cd', 'Pb', 'Fsp', 'Mo', 'Ni', 'Ba', 'Sr', 'Qtz', 'U', 'Zn', 'Th', 'Ca', 'Sc', 'Sb', 'B', 'Cs', 'Ir', 'Lu', 'Ta', 'Ser', 'F', 'Sn', 'Br', 'Cb', 'Alkali', 'Mg', 'Nb', 'V', 'W', 'Mn', 'Hf', 'Plagioclase', 'La', 'Eu', 'Chl', 'An', 'Ti', 'O'}\n",
      "Suffixes: {'', ' 10,100min d', ' av% (AP)', ' av% (KCa)', ' triangular OQ', '/Oth%', '/REE% 978d+915d/740d+802d+870d%', '/QF%', ' 10,100max w', 'Per total wt', ' av% (NaCa)', ' 10185max d', ' triangular KNa%', ' 916d', ' An/AbAn% 1m average', ' av% (QO)', '/chl+ser% (2340d/2200d)', ' An/AbAn%', ' 6500-14500min', ' PPM', ' av% (KNa)', '/chl+ser% (TSAwt) smooth 1m', ' 10,100min w', ' triangular QF', ' _PPM', ' 10128 high side', ' triangular NaCa%', '/REE% 978d/802d%', ' 10,100max-min', '/ser+chl% Pfit AlOHd-MgOHd uTSAerror<100', '/+Ser% uTSA wt smooth', '/Fsp%', ' ppm TL43', '/Ab stdev%', ' 10128max d', ' 11300d >85th percentile', ' av% (QP)', ' _ppm', ' 10128 low side', ' ppm', '/+Serl% Pfit AlOHd-FeOHd uTSAerror<100', ' 10100min d', ' (g/t)', ' av% (FO)', '/chl+ser% (uTSAwt)', ' (2)', ' (%)', '/+Ser% Pfit AlOHd-FeOHd', '/Ab%', ' 654d', '/Ab av%', '/(Qtz+) av%', '/ser+chl% Pfit AlOHd-FeOHd uTSAerror<100', '/QO%', '(ppm)', ' feldspar K/NaK%', '/+Ser% Pfit AlOHd-MgOHd', ' 10100d max+min', ' av% (QF)', '/chl+ser% (2250d/2200d)', ' av% (QA)', ' pct', ' %', '/ser+chl% uTSAwt', '/FO%'}\n",
      "\n",
      "\n",
      "VIC:\n",
      "\n",
      "Geophysics: {'MagSus(SI)', 'COND', 'MagSus(CGS)'}\n",
      "Elements: {'Co', 'Fe', 'S', 'Au', '%reflectance', 'Bi', 'As', 'Cu', 'Li', 'Ag', 'Cr', 'Mo', 'Pb', 'Ni', 'Ba', 'Carb', 'Th', 'U', 'Zn', 'Sb', 'Sn', 'V', 'Hg', 'Nb', 'W', 'Mn', 'Chl'}\n",
      "Suffixes: {'', ' Assay Pref', '/+Ser% Pfit AlOHd-FeOHd', ' slope', ' 10128max d', ' wvl', ' _ppm', ' (%)', ' Values', ' (ppm)', ' (FA)_ppm', ' %', ' _%'}\n",
      "\n",
      "\n",
      "QLD:\n",
      "\n",
      "Geophysics: {'Aux match on Highest Mag Susc for Magnetite AuxMatch'}\n",
      "Elements: set()\n",
      "Suffixes: set()\n",
      "\n",
      "\n",
      "WA:\n",
      "\n",
      "Geophysics: {'Mag Sus x 10-3', 'Ave_Magsus'}\n",
      "Elements: {'Na', 'Ce', 'P', 'Te', 'Co', 'Tl', 'Fe', 'S', 'Al', 'Au', 'Y', 'Zr', 'Bi', 'Rb', 'Cu', 'As', 'Li', 'Ag', 'Se', 'Cr', 'K', 'Cd', 'Mo', 'Pb', 'Ni', 'Ba', 'Sr', 'Cali', 'Th', 'Re', 'Zn', 'Sc', 'Ca', 'Min', 'Sb', 'U', 'Cs', 'Ge', 'Ga', 'Pd', 'Ta', 'Sn', 'In', 'Mg', 'V', 'Nb', 'Be', 'W', 'Mn', 'Hg', 'Pt', 'Hf', 'Cf', 'La', 'Ti', 'Min2'}\n",
      "Suffixes: {'', 'Pct1', ' _ppm', ' ppm', 'per', 'MinPct2', ' (ppm)', ', ppm', ' 2200', ' %', ' _pct'}\n",
      "\n",
      "\n",
      "NT:\n",
      "\n",
      "Geophysics: {'Mag Sus (uncorrected)', 'mag sus', 'Carbonate 2140 nm second feature', 'mag sus (uncorrected)', 'Mag Sus', 'Mag Susc 10-3'}\n",
      "Elements: {'Ce', 'Al2O3', 'LoI', 'Te', 'Co', 'C', 'S', 'Cu', 'Li', 'Pb', 'Ca', 'Sb', 'Fe2O3', 'P2O5', 'Ge', 'BaO', 'Sn', 'MnO', 'In', 'SrO', 'Be', 'Nh', 'MgO', 'Ti', 'Na', 'K2O', 'Tl', 'Tm', 'Fe', 'Y', 'Tb', 'As', 'Na2O', 'Ni', 'Dy', 'Nb', 'Pt', 'Hf', 'Gd', 'P', 'Er', 'SiO2', 'Cr2O3', 'Ho', 'Zr', 'Se', 'Ag', 'Cr', 'K', 'TiO2', 'U3O8', 'Mo', 'CaO', 'Sr', 'Ba', 'Th', 'Re', 'Zn', 'Cs', 'Mg', 'V', 'Mn', 'La', 'Al', 'Yb', 'Au', 'Sm', 'Bi', 'Nd', 'Rb', 'Cd', 'U', 'Sc', 'Pr', 'Lu', 'Ga', 'Pd', 'Ta', 'Hg', 'W', 'Eu'}\n",
      "Suffixes: {'', '%', ' Oxide aspectral auxmatch', ' Alunite_Illite in CHDDH100', ' 2000 wvl', ' _ppm', ' ppm', ' Feldspar weights uTSAT', ' Assays', ' OH 2300-2400 pfit wvl', ' smectite abundance', ' _%', ' 2114 pfit wvl'}\n",
      "\n",
      "\n",
      "SA:\n",
      "\n",
      "Geophysics: {'conductance band 550/400'}\n",
      "Elements: {'Na', 'Mg', 'K', 'Mo', 'U', 'Nh', 'Fm', 'Fe', 'Al'}\n",
      "Suffixes: {' tourmaline', ' wvl', ' ppm', ' minus A (2)', ' Chlorite', ' minus A', ' ppm Niton', ' Alunite', ' Hull depth'}\n"
     ]
    }
   ],
   "source": [
    "# Loop over all the serice providers\n",
    "for provider in provider_list: \n",
    "    param = param_builder(provider, max_boreholes=200)\n",
    "    if not param:\n",
    "        print(f\"Cannot build parameters: {param}\")\n",
    "\n",
    "    # Initialise reader\n",
    "    reader = NVCLReader(param)\n",
    "    if not reader.wfs:\n",
    "        print(f\"ERROR! Cannot contact WFS service for {provider}\")\n",
    "\n",
    "    # Get list of NVCL ids\n",
    "    nvcl_id_list = reader.get_nvcl_id_list()\n",
    "\n",
    "    # Exit if no nvcl ids found\n",
    "    if not nvcl_id_list:\n",
    "        print(f\"ERROR! No NVCL ids for {provider}\")\n",
    "\n",
    "    # Find non-hyperspectral info\n",
    "    geophys_set, ele_set, suff_set = find_nonhyperspectral(nvcl_id_list, provider, reader)\n",
    "    \n",
    "    print(f\"\\n\\n{provider.upper()}:\\n\")\n",
    "    print(f\"Geophysics: {geophys_set}\")\n",
    "    print(f\"Elements: {ele_set}\")\n",
    "    print(f\"Suffixes: {suff_set}\")"
   ]
  },
  {
   "cell_type": "code",
   "execution_count": null,
   "id": "2993ff03-8433-4f2f-ba12-1ca06240f486",
   "metadata": {},
   "outputs": [],
   "source": []
  },
  {
   "cell_type": "code",
   "execution_count": null,
   "id": "d0482749-4201-4280-bd9b-b91774a1fb22",
   "metadata": {},
   "outputs": [],
   "source": []
  },
  {
   "cell_type": "code",
   "execution_count": null,
   "id": "3f071915-bcef-4dbd-9e19-b1f9c596adbb",
   "metadata": {},
   "outputs": [],
   "source": []
  }
 ],
 "metadata": {
  "kernelspec": {
   "display_name": "NVCL KIT 7",
   "language": "python",
   "name": "myenv-nvcl-kit7"
  },
  "language_info": {
   "codemirror_mode": {
    "name": "ipython",
    "version": 3
   },
   "file_extension": ".py",
   "mimetype": "text/x-python",
   "name": "python",
   "nbconvert_exporter": "python",
   "pygments_lexer": "ipython3",
   "version": "3.10.6"
  }
 },
 "nbformat": 4,
 "nbformat_minor": 5
}
